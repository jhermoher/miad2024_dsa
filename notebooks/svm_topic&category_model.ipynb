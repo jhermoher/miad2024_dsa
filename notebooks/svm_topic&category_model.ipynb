{
 "cells": [
  {
   "cell_type": "markdown",
   "metadata": {},
   "source": [
    "### CATEGORIZACIÓN Y ANÁLISIS DE SENTIMIENTOS DE ARTÍCULOS DE NOTICIAS\n",
    "#### Preparación de los artículos procesados\n",
    "#### Entrenamiento y prueba del modelo de Support Vector Machine - SVM"
   ]
  },
  {
   "cell_type": "code",
   "execution_count": 1,
   "metadata": {},
   "outputs": [],
   "source": [
    "# Se importan las librerías necesarias para el preprocesamiento de los datos.\n",
    "import pandas as pd\n",
    "from scipy import sparse\n",
    "\n",
    "# Se importan los scripts necesarios para preparamos los datos y entrenar el modelo.\n",
    "from topic_modeling_prep import TopicModelingPrep\n",
    "from svm_news_classifier import SVMTopicClassifier, main"
   ]
  },
  {
   "cell_type": "code",
   "execution_count": null,
   "metadata": {},
   "outputs": [],
   "source": [
    "# Se cargan los datos procesados de noticias en un DataFrame.\n",
    "processed_news_df = pd.read_csv(\"./data/processed_news_dataset_sample.csv\", encoding='utf-8-sig',na_values=['', 'NA', 'null', 'NULL', 'NaN'])\n",
    "processed_news_df.info()"
   ]
  },
  {
   "cell_type": "code",
   "execution_count": null,
   "metadata": {},
   "outputs": [],
   "source": [
    "processed_news_df = processed_news_df.dropna(subset=['processed_text'])\n",
    "processed_news_df.info()"
   ]
  },
  {
   "cell_type": "code",
   "execution_count": null,
   "metadata": {},
   "outputs": [],
   "source": [
    "# Se preparan los datos para el entrenamiento del modelo.\n",
    "prep = TopicModelingPrep()\n",
    "topic_df, artifacts = prep.prepare_data(processed_news_df)"
   ]
  },
  {
   "cell_type": "code",
   "execution_count": null,
   "metadata": {},
   "outputs": [],
   "source": [
    "# Se muestra el dataframe con los datos preparados.\n",
    "display(topic_df)"
   ]
  },
  {
   "cell_type": "code",
   "execution_count": null,
   "metadata": {},
   "outputs": [],
   "source": [
    "# Se muestra el contenido de los artefactos generados.\n",
    "display(artifacts)"
   ]
  },
  {
   "cell_type": "code",
   "execution_count": null,
   "metadata": {},
   "outputs": [],
   "source": [
    "# Se entrena y se prube el modelo de clasificación de noticias.\n",
    "classifier, topic_distributions, evaluation_results = main(topic_df, artifacts)\n",
    "\n",
    "# Se imprime el reporte de clasificación detallado.\n",
    "print(\"\\nDetailed Classification Report:\")\n",
    "print(pd.DataFrame(evaluation_results['classification_report']).T)"
   ]
  },
  {
   "cell_type": "code",
   "execution_count": null,
   "metadata": {},
   "outputs": [],
   "source": [
    "parameter_combinations = [\n",
    "    # Balanced configuration\n",
    "    {\n",
    "        'n_topics': 20,\n",
    "        'learning_offset': 25.0,\n",
    "        'kernel': 'rbf',\n",
    "        'C': 1.0,\n",
    "        'gamma': 'scale',\n",
    "        'class_balance': 'balanced',\n",
    "        'decision_function_shape': 'ovr'\n",
    "    },\n",
    "    # Linear kernel configuration\n",
    "    {\n",
    "        'n_topics': 25,\n",
    "        'learning_offset': 15.0,\n",
    "        'kernel': 'linear',\n",
    "        'C': 0.1,\n",
    "        'gamma': 'auto',\n",
    "        'class_balance': 'balanced',\n",
    "        'decision_function_shape': 'ovo'\n",
    "    },\n",
    "    # Polynomial kernel configuration\n",
    "    {\n",
    "        'n_topics': 30,\n",
    "        'learning_offset': 35.0,\n",
    "        'kernel': 'poly',\n",
    "        'C': 10.0,\n",
    "        'gamma': 'scale',\n",
    "        'class_balance': 'balanced',\n",
    "        'decision_function_shape': 'ovr'\n",
    "    }\n",
    "]\n",
    "\n",
    "results = []\n",
    "for params in parameter_combinations:\n",
    "    print(f\"\\nTesting parameters: {params}\")\n",
    "    \n",
    "    classifier = SVMTopicClassifier(**params)\n",
    "    topic_distributions, top_words = classifier.fit_transform_lda(topic_df, artifacts)\n",
    "    evaluation_results = classifier.train_classifier(topic_df, topic_distributions)\n",
    "    \n",
    "    results.append({\n",
    "        'parameters': params,\n",
    "        'accuracy': evaluation_results['classification_report']['accuracy'],\n",
    "        'weighted_f1': evaluation_results['classification_report']['weighted avg']['f1-score']\n",
    "    })"
   ]
  },
  {
   "cell_type": "code",
   "execution_count": null,
   "metadata": {},
   "outputs": [],
   "source": [
    "# Print results\n",
    "for result in results:\n",
    "    print(\"\\nParameters:\", result['parameters'])\n",
    "    print(f\"Accuracy: {result['accuracy']:.3f}\")\n",
    "    print(f\"Weighted F1: {result['weighted_f1']:.3f}\")\n",
    "\n",
    "# Find best combination\n",
    "best_result = max(results, key=lambda x: x['weighted_f1'])\n",
    "print(\"\\nBest combination:\")\n",
    "print(f\"Parameters: {best_result['parameters']}\")\n",
    "print(f\"Weighted F1: {best_result['weighted_f1']:.3f}\")"
   ]
  }
 ],
 "metadata": {
  "kernelspec": {
   "display_name": ".venv",
   "language": "python",
   "name": "python3"
  },
  "language_info": {
   "codemirror_mode": {
    "name": "ipython",
    "version": 3
   },
   "file_extension": ".py",
   "mimetype": "text/x-python",
   "name": "python",
   "nbconvert_exporter": "python",
   "pygments_lexer": "ipython3",
   "version": "3.12.7"
  }
 },
 "nbformat": 4,
 "nbformat_minor": 2
}
