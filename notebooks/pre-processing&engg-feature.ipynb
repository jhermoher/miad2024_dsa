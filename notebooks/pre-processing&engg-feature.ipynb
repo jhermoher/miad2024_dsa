{
 "cells": [
  {
   "cell_type": "markdown",
   "metadata": {},
   "source": [
    "### CATEGORIZACIÓN Y ANÁLISIS DE SENTIMIENTOS DE ARTÍCULOS DE NOTICIAS\n",
    "#### Preprocesamiento e Ingeniería de Características"
   ]
  },
  {
   "cell_type": "code",
   "execution_count": 1,
   "metadata": {},
   "outputs": [
    {
     "name": "stdout",
     "output_type": "stream",
     "text": [
      "Fuentes NLTK cargadas exitosamente!\n"
     ]
    }
   ],
   "source": [
    "# Se importan las librerías necesarias para el preprocesamiento de los datos.\n",
    "import pandas as pd\n",
    "\n",
    "# Se importa el archivo news_processor.py para el procesamiento de los datos.\n",
    "import news_processor"
   ]
  },
  {
   "cell_type": "code",
   "execution_count": 2,
   "metadata": {},
   "outputs": [
    {
     "name": "stdout",
     "output_type": "stream",
     "text": [
      "Usando 6 núcleos para procesamiento en paralelo\n"
     ]
    },
    {
     "name": "stderr",
     "output_type": "stream",
     "text": [
      "Procesando fragmentos:   0%|          | 0/7 [00:00<?, ?it/s]"
     ]
    },
    {
     "name": "stdout",
     "output_type": "stream",
     "text": [
      "Fuentes NLTK cargadas exitosamente!\n",
      "Fuentes NLTK cargadas exitosamente!\n",
      "Fuentes NLTK cargadas exitosamente!\n",
      "Fuentes NLTK cargadas exitosamente!\n",
      "Fuentes NLTK cargadas exitosamente!\n",
      "Fuentes NLTK cargadas exitosamente!\n"
     ]
    },
    {
     "name": "stderr",
     "output_type": "stream",
     "text": [
      "Procesando fragmentos: 100%|██████████| 7/7 [1:43:46<00:00, 889.51s/it]    \n"
     ]
    },
    {
     "name": "stdout",
     "output_type": "stream",
     "text": [
      "Dataset procesado guardado en ./data/processed_news_dataset.csv\n"
     ]
    }
   ],
   "source": [
    "# Se ejecuta el archivo news_processor.py para procesar los datos y se guardan en un archivo CSV..\n",
    "processed_news_df = news_processor.main(\"./data/NoDuplicates_News_Category_Dataset.csv\")"
   ]
  },
  {
   "cell_type": "code",
   "execution_count": null,
   "metadata": {},
   "outputs": [],
   "source": [
    "# Se muestra el DataFrame con los datos procesados.\n",
    "display(processed_news_df)"
   ]
  },
  {
   "cell_type": "code",
   "execution_count": null,
   "metadata": {},
   "outputs": [],
   "source": [
    "# Se muestra la información del DataFrame con los datos procesados.\n",
    "processed_news_df.info()"
   ]
  }
 ],
 "metadata": {
  "kernelspec": {
   "display_name": ".venv",
   "language": "python",
   "name": "python3"
  },
  "language_info": {
   "codemirror_mode": {
    "name": "ipython",
    "version": 3
   },
   "file_extension": ".py",
   "mimetype": "text/x-python",
   "name": "python",
   "nbconvert_exporter": "python",
   "pygments_lexer": "ipython3",
   "version": "3.12.7"
  }
 },
 "nbformat": 4,
 "nbformat_minor": 2
}
